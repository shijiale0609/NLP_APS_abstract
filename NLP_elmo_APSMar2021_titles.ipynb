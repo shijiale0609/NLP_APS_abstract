{
  "nbformat": 4,
  "nbformat_minor": 0,
  "metadata": {
    "colab": {
      "name": "NLP_elmo_APSMar2021_titles.ipynb",
      "provenance": [],
      "collapsed_sections": [],
      "toc_visible": true
    },
    "kernelspec": {
      "name": "python3",
      "display_name": "Python 3"
    },
    "accelerator": "GPU"
  },
  "cells": [
    {
      "cell_type": "markdown",
      "metadata": {
        "id": "ouCfIZJLJYxW"
      },
      "source": [
        "# Natural Language Processing for APSMarch2021 titles and abstracts\n",
        "\n",
        "we'll create a search engine for the APS DPOLY titles using contextual embeddings (ELMo)\n",
        "\n",
        "\n",
        "This notebook is a modified version of that described at:\n",
        "\n",
        "https://towardsdatascience.com/elmo-contextual-language-embedding-335de2268604\n",
        "\n",
        "https://github.com/jonathankwhitmer/DPOLY-2020-SC (DPOLY workshop APSMarch2020)"
      ]
    },
    {
      "cell_type": "markdown",
      "metadata": {
        "id": "5kkpJ2PubZMN"
      },
      "source": [
        "# Imports\n",
        "\n",
        "Load all the various libraries necessary to make the notebook run"
      ]
    },
    {
      "cell_type": "code",
      "metadata": {
        "id": "YSvKrahOVCdo",
        "colab": {
          "base_uri": "https://localhost:8080/"
        },
        "outputId": "d8dadf24-3443-4603-c3b1-3561d724e793"
      },
      "source": [
        "##library\r\n",
        "import pandas as pd\r\n",
        "import numpy as np\r\n",
        "import matplotlib.pyplot as plt\r\n",
        "from sklearn.feature_extraction.text import TfidfVectorizer\r\n",
        "from sklearn.metrics.pairwise import cosine_similarity\r\n",
        "from sklearn.decomposition import PCA\r\n",
        "import os\r\n",
        "#import numpy as np\r\n",
        "#import pandas as pd\r\n",
        "import pickle\r\n",
        "\r\n",
        "# Use tensorflow version 2. This is for Colab.\r\n",
        "%tensorflow_version 2.x\r\n",
        "\r\n",
        "import tensorflow as tf\r\n",
        "print (tf.__version__)\r\n",
        "import tensorflow_hub as hub\r\n",
        "from sklearn import preprocessing\r\n",
        "\r\n",
        "from IPython.display import HTML\r\n",
        "import logging\r\n",
        "logging.getLogger('tensorflow').disabled = True #OPTIONAL - to disable outputs from Tensorflow"
      ],
      "execution_count": null,
      "outputs": [
        {
          "output_type": "stream",
          "text": [
            "2.4.1\n"
          ],
          "name": "stdout"
        }
      ]
    },
    {
      "cell_type": "markdown",
      "metadata": {
        "id": "Ik60V1LWbiXo"
      },
      "source": [
        "## Get the data \n",
        "\n",
        "We need to get a list of the abstracts, as well as the embeddings since the embeddings will take too long to train over the entire set."
      ]
    },
    {
      "cell_type": "code",
      "metadata": {
        "id": "GzFFFdyQ7sab",
        "colab": {
          "base_uri": "https://localhost:8080/"
        },
        "outputId": "b9a0776a-f68b-491c-d499-4817c4553a0d"
      },
      "source": [
        "# get the abstract data of APSMarch2021\n",
        "!wget https://github.com/shijiale0609/NLP_APS_abstract/raw/main/APSMarch2021.pkl\n",
        "!wget https://github.com/shijiale0609/NLP_APS_abstract/raw/main/titleembeddings.pkl"
      ],
      "execution_count": null,
      "outputs": [
        {
          "output_type": "stream",
          "text": [
            "--2021-02-15 16:19:40--  https://github.com/shijiale0609/NLP_APS_abstract/raw/main/APSMarch2021.pkl\n",
            "Resolving github.com (github.com)... 192.30.255.113\n",
            "Connecting to github.com (github.com)|192.30.255.113|:443... connected.\n",
            "HTTP request sent, awaiting response... 302 Found\n",
            "Location: https://raw.githubusercontent.com/shijiale0609/NLP_APS_abstract/main/APSMarch2021.pkl [following]\n",
            "--2021-02-15 16:19:40--  https://raw.githubusercontent.com/shijiale0609/NLP_APS_abstract/main/APSMarch2021.pkl\n",
            "Resolving raw.githubusercontent.com (raw.githubusercontent.com)... 185.199.108.133, 185.199.109.133, 185.199.110.133, ...\n",
            "Connecting to raw.githubusercontent.com (raw.githubusercontent.com)|185.199.108.133|:443... connected.\n",
            "HTTP request sent, awaiting response... 200 OK\n",
            "Length: 15725598 (15M) [application/octet-stream]\n",
            "Saving to: ‘APSMarch2021.pkl’\n",
            "\n",
            "APSMarch2021.pkl    100%[===================>]  15.00M  70.7MB/s    in 0.2s    \n",
            "\n",
            "2021-02-15 16:19:40 (70.7 MB/s) - ‘APSMarch2021.pkl’ saved [15725598/15725598]\n",
            "\n",
            "--2021-02-15 16:19:40--  https://github.com/shijiale0609/NLP_APS_abstract/raw/main/titleembeddings.pkl\n",
            "Resolving github.com (github.com)... 192.30.255.112\n",
            "Connecting to github.com (github.com)|192.30.255.112|:443... connected.\n",
            "HTTP request sent, awaiting response... 302 Found\n",
            "Location: https://raw.githubusercontent.com/shijiale0609/NLP_APS_abstract/main/titleembeddings.pkl [following]\n",
            "--2021-02-15 16:19:40--  https://raw.githubusercontent.com/shijiale0609/NLP_APS_abstract/main/titleembeddings.pkl\n",
            "Resolving raw.githubusercontent.com (raw.githubusercontent.com)... 185.199.108.133, 185.199.111.133, 185.199.110.133, ...\n",
            "Connecting to raw.githubusercontent.com (raw.githubusercontent.com)|185.199.108.133|:443... connected.\n",
            "HTTP request sent, awaiting response... 200 OK\n",
            "Length: 41345243 (39M) [application/octet-stream]\n",
            "Saving to: ‘titleembeddings.pkl’\n",
            "\n",
            "titleembeddings.pkl 100%[===================>]  39.43M   114MB/s    in 0.3s    \n",
            "\n",
            "2021-02-15 16:19:42 (114 MB/s) - ‘titleembeddings.pkl’ saved [41345243/41345243]\n",
            "\n"
          ],
          "name": "stdout"
        }
      ]
    },
    {
      "cell_type": "code",
      "metadata": {
        "id": "ihuURy4t_9jg"
      },
      "source": [
        "# read the csv\r\n",
        "df = pd.read_pickle('APSMarch2021.pkl')"
      ],
      "execution_count": null,
      "outputs": []
    },
    {
      "cell_type": "code",
      "metadata": {
        "id": "KTL8w2tABXJY",
        "colab": {
          "base_uri": "https://localhost:8080/"
        },
        "outputId": "8874b074-d8df-433d-98a8-65abda4d078f"
      },
      "source": [
        "## get the titles for all the abstract. \r\n",
        "title_list = df['Title'].tolist()\r\n",
        "print (len(title_list))\r\n",
        "print (df['Title'][1999])\r\n",
        "print (df['Abstract'][1999])\r\n",
        "print (df['url'][1999])\r\n"
      ],
      "execution_count": null,
      "outputs": [
        {
          "output_type": "stream",
          "text": [
            "10094\n",
            "Freestanding Sr2IrO4 nanomembranes: structural and optical properties\n",
            "We report the structural and optical properties of nanoscale freestanding Sr2IrO4 thin film fabricated using a sacrificial water-soluble Sr3Al2O6 layer. The coherent lattice structure, phonon modes, two-magnon Raman scattering, and optical absorption spectra of the freestanding Sr2IrO4 nanomembrane are analogous to those of the layered iridate epitaxial thin-films and single crystals. Remarkably, the 3-unit-cell-thick SrIrO3 interfacial layers alleviate the formation of antiphase boundaries at the Sr2IrO4/Sr3Al2O6 interface, resulting in structurally-robust freestanding thin-film. Our experimental results show that this freestanding thin-film approach of layered oxides can provide techniques for tuning or realizing unprecedented states beyond conventional thin film methods, suggesting a pathway in achieving two-dimensional layered oxides electronics.\n",
            "https://meetings.aps.org/Meeting/MAR21/Session/C54.1\n"
          ],
          "name": "stdout"
        }
      ]
    },
    {
      "cell_type": "markdown",
      "metadata": {
        "id": "FPMKyR6hb4Tj"
      },
      "source": [
        "## Create sentence embeddings\n",
        "\n",
        "We'll do this for only twenty random abstracts in the interest of time, but this can be easily modified to create the embeddings for the entire set.\n",
        "\n",
        "First, we get the model for the embeddings."
      ]
    },
    {
      "cell_type": "code",
      "metadata": {
        "id": "3LLp01SrqeKc"
      },
      "source": [
        "url = \"https://tfhub.dev/google/elmo/3\" # get the model for the embeddings\n",
        "embed = hub.load(url)"
      ],
      "execution_count": null,
      "outputs": []
    },
    {
      "cell_type": "markdown",
      "metadata": {
        "id": "FJ6wQyqTb_nZ"
      },
      "source": [
        "Actually perform the embedding\n",
        "-------\n",
        "We train 500 titles since the limit of the memory"
      ]
    },
    {
      "cell_type": "code",
      "metadata": {
        "colab": {
          "base_uri": "https://localhost:8080/"
        },
        "id": "1hk9Rl9EqeaT",
        "outputId": "472a308d-5bda-4695-fc31-9da5a18458ac"
      },
      "source": [
        "%%time\n",
        "\n",
        "# Here we use the default embedding, which is a fixed mean-pooling of all contextualized word representations or in other words, sentence embedding instead of word embedding (see https://tfhub.dev/google/elmo/2)\n",
        "embeddings = embed.signatures['default'](tf.convert_to_tensor(title_list[0:500]))['default']\n",
        "\n"
      ],
      "execution_count": null,
      "outputs": [
        {
          "output_type": "stream",
          "text": [
            "CPU times: user 1.51 s, sys: 755 ms, total: 2.26 s\n",
            "Wall time: 7.37 s\n"
          ],
          "name": "stdout"
        }
      ]
    },
    {
      "cell_type": "code",
      "metadata": {
        "colab": {
          "base_uri": "https://localhost:8080/"
        },
        "id": "x4hwSq5A_kOW",
        "outputId": "9ea3df04-7e8e-4ccf-e870-f6de4c0c6d1f"
      },
      "source": [
        "embeddings"
      ],
      "execution_count": null,
      "outputs": [
        {
          "output_type": "execute_result",
          "data": {
            "text/plain": [
              "<tf.Tensor: shape=(500, 1024), dtype=float32, numpy=\n",
              "array([[-0.12477203, -0.05935965,  0.45035282, ...,  0.06580848,\n",
              "         0.09966489, -0.2717036 ],\n",
              "       [-0.24195193, -0.23942824, -0.08454262, ..., -0.06641274,\n",
              "         0.11909106, -0.37264633],\n",
              "       [-0.13392486,  0.18585329, -0.04809775, ...,  0.20629711,\n",
              "         0.47646847, -0.03167387],\n",
              "       ...,\n",
              "       [-0.04131991,  0.12521783,  0.24550864, ...,  0.03045699,\n",
              "         0.33972222, -0.18134496],\n",
              "       [ 0.21943586,  0.26187283,  0.25986555, ..., -0.19191241,\n",
              "         0.21547341, -0.05831806],\n",
              "       [-0.1449011 , -0.38635668, -0.06909034, ..., -0.05145966,\n",
              "         0.10960076,  0.12563978]], dtype=float32)>"
            ]
          },
          "metadata": {
            "tags": []
          },
          "execution_count": 7
        }
      ]
    },
    {
      "cell_type": "markdown",
      "metadata": {
        "id": "DiWIP5aJdgWX"
      },
      "source": [
        "If you want to train all the remaining titles, run the cell below. "
      ]
    },
    {
      "cell_type": "code",
      "metadata": {
        "id": "aVDVE73xdRDh"
      },
      "source": [
        "#for i in range(1,21):\n",
        "#  print (i)\n",
        "#  left = 500*i\n",
        "#  right = 500*(i+1)\n",
        "#  if right >= len(title_list):\n",
        "#    right = len(title_list)\n",
        "#  # Here we use the default embedding, which is a fixed mean-pooling of all contextualized word representations or in other words, sentence embedding instead of word embedding (see https://tfhub.dev/google/elmo/2)\n",
        "#  embeddings_new = embed.signatures['default'](tf.convert_to_tensor(title_list[left:right]))['default']\n",
        "#  embeddings = tf.concat([embeddings, embeddings_new], 0)\n",
        "\n",
        "#pickle.dump(embeddings, open(\"titleembeddings.pkl\", \"wb\"))"
      ],
      "execution_count": null,
      "outputs": []
    },
    {
      "cell_type": "markdown",
      "metadata": {
        "id": "bPQw6h4Qd2GU"
      },
      "source": [
        "## PCA classification for the embeddings "
      ]
    },
    {
      "cell_type": "code",
      "metadata": {
        "colab": {
          "base_uri": "https://localhost:8080/",
          "height": 435
        },
        "id": "KVFO0U7J2RHU",
        "outputId": "a5e24e65-aeee-4c67-81c1-ed7b628125d9"
      },
      "source": [
        "pca = PCA(n_components=2, random_state=20)\n",
        "result = pca.fit_transform(embeddings)#\n",
        "print (pca.explained_variance_ratio_)\n",
        "print (pca.explained_variance_)\n",
        "\n",
        "PC1=[i[0] for i in result]\n",
        "PC2=[i[1] for i in result]\n",
        "import matplotlib.pyplot as plt\n",
        "plt.figure(figsize=(6,6))\n",
        "plt.scatter(list(PC1), list(PC2))\n",
        "plt.xlabel('PC1', size = 20)\n",
        "plt.ylabel('PC2', size = 20)\n",
        "plt.show()"
      ],
      "execution_count": null,
      "outputs": [
        {
          "output_type": "stream",
          "text": [
            "[0.20240788 0.04797787]\n",
            "[8.73284378 2.06999472]\n"
          ],
          "name": "stdout"
        },
        {
          "output_type": "display_data",
          "data": {
            "image/png": "[encoded data removed]",
            "text/plain": [
              "<Figure size 432x432 with 1 Axes>"
            ]
          },
          "metadata": {
            "tags": [],
            "needs_background": "light"
          }
        }
      ]
    },
    {
      "cell_type": "code",
      "metadata": {
        "colab": {
          "base_uri": "https://localhost:8080/",
          "height": 408
        },
        "id": "nyWIrR-1CtUo",
        "outputId": "e7a46af0-2b5e-44a7-da80-8373cdb1439a"
      },
      "source": [
        "from mpl_toolkits.mplot3d import Axes3D\r\n",
        "%matplotlib inline\r\n",
        "from sklearn.decomposition import PCA\r\n",
        "pca = PCA(n_components=3, random_state=20)\r\n",
        "result = pca.fit_transform(embeddings)#\r\n",
        "print (pca.explained_variance_ratio_)\r\n",
        "print (pca.explained_variance_)\r\n",
        "\r\n",
        "PC1=[i[0] for i in result]\r\n",
        "PC2=[i[1] for i in result]\r\n",
        "PC3=[i[2] for i in result]\r\n",
        "\r\n",
        "fig = plt.figure()\r\n",
        "#ax = Axes3D(fig, rect=[0, 0, 1, 1], elev=30, azim=20)\r\n",
        "ax = Axes3D(fig)\r\n",
        "\r\n",
        "plt.scatter(PC1, PC2, PC3,  c='r',marker='o')\r\n",
        "\r\n",
        "plt.show()"
      ],
      "execution_count": null,
      "outputs": [
        {
          "output_type": "stream",
          "text": [
            "[0.20240788 0.04797787 0.03519295]\n",
            "[8.73284378 2.06999473 1.51839202]\n"
          ],
          "name": "stdout"
        },
        {
          "output_type": "stream",
          "text": [
            "/usr/local/lib/python3.6/dist-packages/matplotlib/collections.py:885: RuntimeWarning: invalid value encountered in sqrt\n",
            "  scale = np.sqrt(self._sizes) * dpi / 72.0 * self._factor\n"
          ],
          "name": "stderr"
        },
        {
          "output_type": "display_data",
          "data": {
            "image/png": "[encoded data removed]",
            "text/plain": [
              "<Figure size 432x288 with 1 Axes>"
            ]
          },
          "metadata": {
            "tags": [],
            "needs_background": "light"
          }
        }
      ]
    },
    {
      "cell_type": "markdown",
      "metadata": {
        "id": "AlH4EGJndFrZ"
      },
      "source": [
        "## Upload the data for the entire set of abstracts"
      ]
    },
    {
      "cell_type": "code",
      "metadata": {
        "id": "ZmnmnXX1-bqP"
      },
      "source": [
        "fullembeddings = pickle.load(open('titleembeddings.pkl','rb'))"
      ],
      "execution_count": null,
      "outputs": []
    },
    {
      "cell_type": "code",
      "metadata": {
        "id": "jmYC1i832S1C"
      },
      "source": [
        "## Get the word embedding for the search string\n",
        "search_string = \"free energy calculation\" \n",
        "results_returned = 5\n",
        "\n",
        "from sklearn.metrics.pairwise import cosine_similarity\n",
        "\n",
        "# perform sentence embedding on the search string\n",
        "search_vect = embed.signatures['default'](tf.convert_to_tensor([search_string]))['default']\n",
        "\n",
        "# find the cosine similarity for every title\n",
        "# you can learn more about distance metrics here: https://towardsdatascience.com/importance-of-distance-metrics-in-machine-learning-modelling-e51395ffe60d\n",
        "#res = cosine_similarity(search_vect,fullembeddings).flatten()\n",
        "res = cosine_similarity(search_vect,fullembeddings).flatten()\n",
        "\n",
        "\n",
        "res1 = res.ravel().argsort()[-results_returned:]\n",
        "res1 = res1.tolist()\n",
        "res1.reverse()\n"
      ],
      "execution_count": null,
      "outputs": []
    },
    {
      "cell_type": "code",
      "metadata": {
        "colab": {
          "base_uri": "https://localhost:8080/"
        },
        "id": "OAzXGDrI4bQ-",
        "outputId": "dd2a4e0f-eeac-4942-cf68-cf6ce61f6905"
      },
      "source": [
        "print (\"Top\" +str(results_returned), \"titles for '{}':\\n\\n\".format(search_string))\n",
        "#print (res[title_list.index(\"Free energy landscapes and transition rates of dynamic properties of Au4 neutral and charged clusters at finite temperature\")])\n",
        "for i in range(0, len(res1)):\n",
        "    print(i+1, \"cosine similarity = \", res[res1[i]], '\\n', \"Title:\",title_list[res1[i]],'\\n', \"url:\", df['url'][res1[i]])\n",
        "    print ('\\n')"
      ],
      "execution_count": null,
      "outputs": [
        {
          "output_type": "stream",
          "text": [
            "Top5 titles for 'free energy calculation':\n",
            "\n",
            "\n",
            "1 cosine similarity =  0.69891816 \n",
            " Title: pgm: A Python package for free energy calculation \n",
            " url: https://meetings.aps.org/Meeting/MAR21/Session/P19.3\n",
            "\n",
            "\n",
            "2 cosine similarity =  0.6366174 \n",
            " Title: Direct calculation of kinetics from free energy surfaces \n",
            " url: https://meetings.aps.org/Meeting/MAR21/Session/P25.3\n",
            "\n",
            "\n",
            "3 cosine similarity =  0.5942129 \n",
            " Title: Free energy calculations on the stability of polymer-grafted nanoparticle superlattices \n",
            " url: https://meetings.aps.org/Meeting/MAR21/Session/P16.10\n",
            "\n",
            "\n",
            "4 cosine similarity =  0.573092 \n",
            " Title: A top-down and bottom-up strategy to generate free volume for membrane-based gas separations \n",
            " url: https://meetings.aps.org/Meeting/MAR21/Session/B04.6\n",
            "\n",
            "\n",
            "5 cosine similarity =  0.5727252 \n",
            " Title: Energy conservation equation for one-component pseudopotential lattice Boltzmann method \n",
            " url: https://meetings.aps.org/Meeting/MAR21/Session/J25.6\n",
            "\n",
            "\n"
          ],
          "name": "stdout"
        }
      ]
    },
    {
      "cell_type": "code",
      "metadata": {
        "colab": {
          "base_uri": "https://localhost:8080/",
          "height": 283
        },
        "id": "CuuJOlc7AcH3",
        "outputId": "775bac3f-2fc5-4e82-bc8c-72f7fb227e97"
      },
      "source": [
        "plt.plot(res)"
      ],
      "execution_count": null,
      "outputs": [
        {
          "output_type": "execute_result",
          "data": {
            "text/plain": [
              "[<matplotlib.lines.Line2D at 0x7f7b16472a58>]"
            ]
          },
          "metadata": {
            "tags": []
          },
          "execution_count": 16
        },
        {
          "output_type": "display_data",
          "data": {
            "image/png": "[encoded data removed]",
            "text/plain": [
              "<Figure size 432x288 with 1 Axes>"
            ]
          },
          "metadata": {
            "tags": [],
            "needs_background": "light"
          }
        }
      ]
    },
    {
      "cell_type": "code",
      "metadata": {
        "id": "a5D7WQ8VVaFz"
      },
      "source": [
        ""
      ],
      "execution_count": null,
      "outputs": []
    }
  ]
}