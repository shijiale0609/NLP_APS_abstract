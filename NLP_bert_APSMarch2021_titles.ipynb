{
  "nbformat": 4,
  "nbformat_minor": 0,
  "metadata": {
    "accelerator": "GPU",
    "colab": {
      "name": "NLP_bert_APSMarch2021_titles.ipynb",
      "provenance": [],
      "collapsed_sections": [],
      "toc_visible": true
    },
    "kernelspec": {
      "display_name": "Python 3",
      "name": "python3"
    }
  },
  "cells": [
    {
      "cell_type": "markdown",
      "metadata": {
        "id": "-1vOMEXIhMQt"
      },
      "source": [
        "##### Copyright 2020 The TensorFlow Hub Authors.\n",
        "\n",
        "Licensed under the Apache License, Version 2.0 (the \"License\");"
      ]
    },
    {
      "cell_type": "markdown",
      "metadata": {
        "id": "mTL0TERThT6z"
      },
      "source": [
        "# BERT Natural Language Processing for APSMarch2021 titles and abstracts\n",
        "\n",
        "we'll create a search engine for the APS DPOLY titles using contextual embeddings (BERT)\n",
        "\n",
        "This notebook is modified from\n",
        "https://colab.research.google.com/github/tensorflow/hub/blob/master/examples/colab/bert_experts.ipynb"
      ]
    },
    {
      "cell_type": "markdown",
      "metadata": {
        "id": "FkthMlVk8bHp"
      },
      "source": [
        "# BERT Experts from TF-Hub\n",
        "\n",
        "This colab demonstrates how to:\n",
        "* Load BERT models from [TensorFlow Hub](https://tfhub.dev) that have been trained on different tasks including MNLI, SQuAD, and PubMed\n",
        "* Use a matching preprocessing model to tokenize raw text and convert it to ids\n",
        "* Generate the pooled and sequence output from the token input ids using the loaded model\n",
        "* Look at the semantic similarity of the pooled outputs of different sentences\n",
        "\n",
        "#### Note: This colab should be run with a GPU runtime"
      ]
    },
    {
      "cell_type": "markdown",
      "metadata": {
        "id": "jspO02jDPfPG"
      },
      "source": [
        "## Set up and imports"
      ]
    },
    {
      "cell_type": "code",
      "metadata": {
        "id": "r-ed8zj-dbwm",
        "colab": {
          "base_uri": "https://localhost:8080/"
        },
        "outputId": "97876737-63e7-4e7d-d9de-64fe3a99e3df"
      },
      "source": [
        "!pip3 install --quiet tensorflow\n",
        "!pip3 install --quiet tensorflow_text"
      ],
      "execution_count": null,
      "outputs": [
        {
          "output_type": "stream",
          "text": [
            "\u001b[K     |████████████████████████████████| 3.4MB 6.2MB/s \n",
            "\u001b[?25h"
          ],
          "name": "stdout"
        }
      ]
    },
    {
      "cell_type": "code",
      "metadata": {
        "id": "czDmtrGKYw_5"
      },
      "source": [
        "import seaborn as sns\n",
        "from sklearn.metrics import pairwise\n",
        "from sklearn.metrics.pairwise import cosine_similarity\n",
        "import pickle\n",
        "import pandas as pd\n",
        "\n",
        "import tensorflow as tf\n",
        "import tensorflow_hub as hub\n",
        "import tensorflow_text as text  # Imports TF ops for preprocessing."
      ],
      "execution_count": null,
      "outputs": []
    },
    {
      "cell_type": "code",
      "metadata": {
        "id": "GSuDcPSaY5aB"
      },
      "source": [
        "#@title Configure the model { run: \"auto\" }\n",
        "BERT_MODEL = \"https://tfhub.dev/google/experts/bert/pubmed/2\" # @param {type: \"string\"} [\"https://tfhub.dev/google/experts/bert/wiki_books/2\", \"https://tfhub.dev/google/experts/bert/wiki_books/mnli/2\", \"https://tfhub.dev/google/experts/bert/wiki_books/qnli/2\", \"https://tfhub.dev/google/experts/bert/wiki_books/qqp/2\", \"https://tfhub.dev/google/experts/bert/wiki_books/squad2/2\", \"https://tfhub.dev/google/experts/bert/wiki_books/sst2/2\",  \"https://tfhub.dev/google/experts/bert/pubmed/2\", \"https://tfhub.dev/google/experts/bert/pubmed/squad2/2\"]\n",
        "# Preprocessing must match the model, but all the above use the same.\n",
        "PREPROCESS_MODEL = \"https://tfhub.dev/tensorflow/bert_en_uncased_preprocess/3\""
      ],
      "execution_count": null,
      "outputs": []
    },
    {
      "cell_type": "markdown",
      "metadata": {
        "id": "pvaZiGVgwtqw"
      },
      "source": [
        "## Download Data from github"
      ]
    },
    {
      "cell_type": "code",
      "metadata": {
        "colab": {
          "base_uri": "https://localhost:8080/"
        },
        "id": "wHHvlRMB4PTH",
        "outputId": "90f923b9-8dbc-4f2a-d73d-80930bb6aa39"
      },
      "source": [
        "!wget https://github.com/shijiale0609/NLP_APS_abstract/raw/main/APSMarch2021.pkl\r\n",
        "!wget https://github.com/shijiale0609/NLP_APS_abstract/raw/main/title_bert_pubmed_embeddings.pkl"
      ],
      "execution_count": null,
      "outputs": [
        {
          "output_type": "stream",
          "text": [
            "--2021-02-15 16:23:51--  https://github.com/shijiale0609/NLP_APS_abstract/raw/main/APSMarch2021.pkl\n",
            "Resolving github.com (github.com)... 140.82.112.3\n",
            "Connecting to github.com (github.com)|140.82.112.3|:443... connected.\n",
            "HTTP request sent, awaiting response... 302 Found\n",
            "Location: https://raw.githubusercontent.com/shijiale0609/NLP_APS_abstract/main/APSMarch2021.pkl [following]\n",
            "--2021-02-15 16:23:51--  https://raw.githubusercontent.com/shijiale0609/NLP_APS_abstract/main/APSMarch2021.pkl\n",
            "Resolving raw.githubusercontent.com (raw.githubusercontent.com)... 185.199.109.133, 185.199.110.133, 185.199.111.133, ...\n",
            "Connecting to raw.githubusercontent.com (raw.githubusercontent.com)|185.199.109.133|:443... connected.\n",
            "HTTP request sent, awaiting response... 200 OK\n",
            "Length: 15725598 (15M) [application/octet-stream]\n",
            "Saving to: ‘APSMarch2021.pkl’\n",
            "\n",
            "APSMarch2021.pkl    100%[===================>]  15.00M  80.0MB/s    in 0.2s    \n",
            "\n",
            "2021-02-15 16:23:51 (80.0 MB/s) - ‘APSMarch2021.pkl’ saved [15725598/15725598]\n",
            "\n",
            "--2021-02-15 16:23:51--  https://github.com/shijiale0609/NLP_APS_abstract/raw/main/title_bert_pubmed_embeddings.pkl\n",
            "Resolving github.com (github.com)... 140.82.114.3\n",
            "Connecting to github.com (github.com)|140.82.114.3|:443... connected.\n",
            "HTTP request sent, awaiting response... 302 Found\n",
            "Location: https://raw.githubusercontent.com/shijiale0609/NLP_APS_abstract/main/title_bert_pubmed_embeddings.pkl [following]\n",
            "--2021-02-15 16:23:52--  https://raw.githubusercontent.com/shijiale0609/NLP_APS_abstract/main/title_bert_pubmed_embeddings.pkl\n",
            "Resolving raw.githubusercontent.com (raw.githubusercontent.com)... 185.199.109.133, 185.199.110.133, 185.199.108.133, ...\n",
            "Connecting to raw.githubusercontent.com (raw.githubusercontent.com)|185.199.109.133|:443... connected.\n",
            "HTTP request sent, awaiting response... 200 OK\n",
            "Length: 31008987 (30M) [application/octet-stream]\n",
            "Saving to: ‘title_bert_pubmed_embeddings.pkl’\n",
            "\n",
            "title_bert_pubmed_e 100%[===================>]  29.57M  62.7MB/s    in 0.5s    \n",
            "\n",
            "2021-02-15 16:23:53 (62.7 MB/s) - ‘title_bert_pubmed_embeddings.pkl’ saved [31008987/31008987]\n",
            "\n"
          ],
          "name": "stdout"
        }
      ]
    },
    {
      "cell_type": "code",
      "metadata": {
        "id": "uhyZeIQF4sdc"
      },
      "source": [
        "## Read the data\r\n",
        "df = pd.read_pickle('APSMarch2021.pkl')"
      ],
      "execution_count": null,
      "outputs": []
    },
    {
      "cell_type": "markdown",
      "metadata": {
        "id": "IFkGr7f6rnVD"
      },
      "source": [
        "We train 500 titles since the limit of the memory"
      ]
    },
    {
      "cell_type": "code",
      "metadata": {
        "id": "6_lHgROB4V0i"
      },
      "source": [
        "## get the titles for all the abstract. \r\n",
        "title_list = df['Title'].tolist()\r\n",
        "sentences = title_list[0:500]"
      ],
      "execution_count": null,
      "outputs": []
    },
    {
      "cell_type": "markdown",
      "metadata": {
        "id": "zI39475kxCKh"
      },
      "source": [
        "## Run the model\n",
        "\n",
        "We'll load the BERT model from TF-Hub, tokenize our sentences using the matching preprocessing model from TF-Hub, then feed in the tokenized sentences to the model. To keep this colab fast and simple, we recommend running on GPU.\n",
        "\n",
        "Go to **Runtime** → **Change runtime type** to make sure that **GPU** is selected"
      ]
    },
    {
      "cell_type": "code",
      "metadata": {
        "id": "x4t6r22ErQg0",
        "colab": {
          "base_uri": "https://localhost:8080/"
        },
        "outputId": "db0d8580-8bf0-417a-8941-e018d561c7ba"
      },
      "source": [
        "%%time\n",
        "\n",
        "preprocess = hub.load(PREPROCESS_MODEL)\n",
        "bert = hub.load(BERT_MODEL)\n",
        "inputs = preprocess(sentences)\n",
        "outputs = bert(inputs)"
      ],
      "execution_count": null,
      "outputs": [
        {
          "output_type": "stream",
          "text": [
            "CPU times: user 24.4 s, sys: 5.06 s, total: 29.4 s\n",
            "Wall time: 31.1 s\n"
          ],
          "name": "stdout"
        }
      ]
    },
    {
      "cell_type": "code",
      "metadata": {
        "id": "Yj1xAbWa3Fx_"
      },
      "source": [
        "embeddings = outputs['pooled_output']"
      ],
      "execution_count": null,
      "outputs": []
    },
    {
      "cell_type": "markdown",
      "metadata": {
        "id": "ZAri2H7Rraum"
      },
      "source": [
        "If you want to train all the remaining titles, run the cell below. "
      ]
    },
    {
      "cell_type": "code",
      "metadata": {
        "id": "uvUwnWit1HqH"
      },
      "source": [
        "#for i in range(1,21):\n",
        "  \n",
        "#  left = 500*i\n",
        "#  right = 500*(i+1)\n",
        "#  if right >=len(title_list):\n",
        "#    right = len(title_list)\n",
        "#  print (i, left, right)\n",
        "#  inputs = preprocess(title_list[left:right])\n",
        "#  outputs = bert(inputs)\n",
        "#  # Here we use the default embedding, which is a fixed mean-pooling of all contextualized word representations or in other words, sentence embedding instead of word embedding (see https://tfhub.dev/google/elmo/2)\n",
        "#  embeddings_new = outputs['pooled_output']\n",
        "#  embeddings = tf.concat([embeddings, embeddings_new], 0)\n",
        "\n",
        "#pickle.dump(embeddings, open(\"title_bert_pubmed_embeddings.pkl\", \"wb\"))"
      ],
      "execution_count": null,
      "outputs": []
    },
    {
      "cell_type": "code",
      "metadata": {
        "id": "2ZuU_Uxs5JxC",
        "colab": {
          "base_uri": "https://localhost:8080/"
        },
        "outputId": "91795d52-eecf-4eb7-ddd2-7f95a0e76637"
      },
      "source": [
        "embeddings.shape"
      ],
      "execution_count": null,
      "outputs": [
        {
          "output_type": "execute_result",
          "data": {
            "text/plain": [
              "TensorShape([10094, 768])"
            ]
          },
          "metadata": {
            "tags": []
          },
          "execution_count": 10
        }
      ]
    },
    {
      "cell_type": "markdown",
      "metadata": {
        "id": "ESdaNR8HgwKQ"
      },
      "source": [
        "## Use the fullembeddings which are already trained"
      ]
    },
    {
      "cell_type": "code",
      "metadata": {
        "id": "s6_toDS_gqdx"
      },
      "source": [
        "fullembeddings = pickle.load(open('title_bert_pubmed_embeddings.pkl','rb'))"
      ],
      "execution_count": null,
      "outputs": []
    },
    {
      "cell_type": "code",
      "metadata": {
        "colab": {
          "base_uri": "https://localhost:8080/"
        },
        "id": "cUsi-PEc-TmP",
        "outputId": "922259ef-82c5-457b-d25d-7cf9a70ee212"
      },
      "source": [
        "%%time\r\n",
        "\r\n",
        "search_string = [\"free energy calculation\"]\r\n",
        "#search_string = [\"Colloidal Diamond\"]\r\n",
        "input_search = preprocess(search_string)\r\n",
        "outputs_search = bert(input_search)"
      ],
      "execution_count": null,
      "outputs": [
        {
          "output_type": "stream",
          "text": [
            "CPU times: user 16.3 ms, sys: 2.05 ms, total: 18.3 ms\n",
            "Wall time: 17.2 ms\n"
          ],
          "name": "stdout"
        }
      ]
    },
    {
      "cell_type": "code",
      "metadata": {
        "colab": {
          "base_uri": "https://localhost:8080/"
        },
        "id": "SBNXgqUW4VE8",
        "outputId": "ee2ba2e7-6b8c-4793-fa12-09314f27283d"
      },
      "source": [
        "print(\"string preprocess:\",len(input_search))\n",
        "print (\"output:\",outputs_search['pooled_output'].shape)"
      ],
      "execution_count": null,
      "outputs": [
        {
          "output_type": "stream",
          "text": [
            "string preprocess: 3\n",
            "output: (1, 768)\n"
          ],
          "name": "stdout"
        }
      ]
    },
    {
      "cell_type": "code",
      "metadata": {
        "id": "wMaKbtk--37e"
      },
      "source": [
        "from sklearn.metrics.pairwise import cosine_similarity"
      ],
      "execution_count": null,
      "outputs": []
    },
    {
      "cell_type": "code",
      "metadata": {
        "id": "TmpM9UoV-8T8"
      },
      "source": [
        "res = cosine_similarity(outputs_search['pooled_output'],fullembeddings).flatten()"
      ],
      "execution_count": null,
      "outputs": []
    },
    {
      "cell_type": "code",
      "metadata": {
        "colab": {
          "base_uri": "https://localhost:8080/"
        },
        "id": "RJuAxilBAj9g",
        "outputId": "0a311c76-fd51-4df6-febd-9f855fa8fa4b"
      },
      "source": [
        "res1 = res.ravel().argsort()[-10:]\r\n",
        "res1 = res1.tolist()\r\n",
        "res1.reverse()\r\n",
        "\r\n",
        "print (\"Top\" + str(10), \"titles for '{}':\\n\\n\".format(search_string[0]))\r\n",
        "#print (res[title_list.index(\"Free energy landscapes and transition rates of dynamic properties of Au4 neutral and charged clusters at finite temperature\")])\r\n",
        "for i in range(0, len(res1)):\r\n",
        "    print(i+1, \"cosine similarity = \", res[res1[i]], '\\n', \"Title:\",title_list[res1[i]],'\\n', \"url:\", df['url'][res1[i]])"
      ],
      "execution_count": null,
      "outputs": [
        {
          "output_type": "stream",
          "text": [
            "Top10 titles for 'free energy calculation':\n",
            "\n",
            "\n",
            "1 cosine similarity =  0.46114743 \n",
            " Title: Finite-size transitions in membranes \n",
            " url: https://meetings.aps.org/Meeting/MAR21/Session/L12.1\n",
            "2 cosine similarity =  0.43685436 \n",
            " Title: Instanton Crystal Phase \n",
            " url: https://meetings.aps.org/Meeting/MAR21/Session/X44.10\n",
            "3 cosine similarity =  0.42551526 \n",
            " Title: Different MXenes but the same surface \n",
            " url: https://meetings.aps.org/Meeting/MAR21/Session/C57.1\n",
            "4 cosine similarity =  0.42453635 \n",
            " Title: Active Crystallization \n",
            " url: https://meetings.aps.org/Meeting/MAR21/Session/R24.11\n",
            "5 cosine similarity =  0.4070391 \n",
            " Title: Rare Event Kinetics of Ion Pairing in Solution \n",
            " url: https://meetings.aps.org/Meeting/MAR21/Session/Y26.1\n",
            "6 cosine similarity =  0.3983469 \n",
            " Title: Superhydrophobicity induced by CO2 plasma treatment of Magnesium \n",
            " url: https://meetings.aps.org/Meeting/MAR21/Session/X41.13\n",
            "7 cosine similarity =  0.39339346 \n",
            " Title: Settling of shaped solids \n",
            " url: https://meetings.aps.org/Meeting/MAR21/Session/A17.4\n",
            "8 cosine similarity =  0.39337507 \n",
            " Title: Chiral Emulsions \n",
            " url: https://meetings.aps.org/Meeting/MAR21/Session/C24.7\n",
            "9 cosine similarity =  0.38970476 \n",
            " Title: Diffusion of water through palm leaf materials \n",
            " url: https://meetings.aps.org/Meeting/MAR21/Session/A13.4\n",
            "10 cosine similarity =  0.38466704 \n",
            " Title: Statistical mechanics of nanotubes \n",
            " url: https://meetings.aps.org/Meeting/MAR21/Session/V06.13\n"
          ],
          "name": "stdout"
        }
      ]
    },
    {
      "cell_type": "code",
      "metadata": {
        "id": "_eo4gt0GAI4Y",
        "colab": {
          "base_uri": "https://localhost:8080/",
          "height": 282
        },
        "outputId": "1ab15d29-66fc-4cdc-90cb-6781fe5d996f"
      },
      "source": [
        "import matplotlib.pyplot as plt\n",
        "\n",
        "plt.plot(res)"
      ],
      "execution_count": null,
      "outputs": [
        {
          "output_type": "execute_result",
          "data": {
            "text/plain": [
              "[<matplotlib.lines.Line2D at 0x7fb0d137a710>]"
            ]
          },
          "metadata": {
            "tags": []
          },
          "execution_count": 28
        },
        {
          "output_type": "display_data",
          "data": {
            "image/png": "[encoded data removed]",
            "text/plain": [
              "<Figure size 432x288 with 1 Axes>"
            ]
          },
          "metadata": {
            "tags": [],
            "needs_background": "light"
          }
        }
      ]
    },
    {
      "cell_type": "code",
      "metadata": {
        "id": "iF12ftzZhjlN"
      },
      "source": [
        ""
      ],
      "execution_count": null,
      "outputs": []
    }
  ]
}